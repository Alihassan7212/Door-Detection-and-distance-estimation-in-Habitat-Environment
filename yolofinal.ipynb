{
  "cells": [
    {
      "cell_type": "code",
      "execution_count": 1,
      "metadata": {
        "id": "3nTj8Yx6RDTV",
        "colab": {
          "base_uri": "https://localhost:8080/"
        },
        "outputId": "91fb6eb3-ef75-4bc5-ece2-b45daef777db"
      },
      "outputs": [
        {
          "output_type": "stream",
          "name": "stdout",
          "text": [
            "\u001b[?25l     \u001b[90m━━━━━━━━━━━━━━━━━━━━━━━━━━━━━━━━━━━━━━━━\u001b[0m \u001b[32m0.0/617.0 kB\u001b[0m \u001b[31m?\u001b[0m eta \u001b[36m-:--:--\u001b[0m\r\u001b[2K     \u001b[91m━━━━━━━━━━━━━━━━━━━━━━━━━\u001b[0m\u001b[90m╺\u001b[0m\u001b[90m━━━━━━━━━━━━\u001b[0m \u001b[32m409.6/617.0 kB\u001b[0m \u001b[31m12.2 MB/s\u001b[0m eta \u001b[36m0:00:01\u001b[0m\r\u001b[2K     \u001b[90m━━━━━━━━━━━━━━━━━━━━━━━━━━━━━━━━━━━━━━\u001b[0m \u001b[32m617.0/617.0 kB\u001b[0m \u001b[31m10.8 MB/s\u001b[0m eta \u001b[36m0:00:00\u001b[0m\n",
            "\u001b[?25h"
          ]
        }
      ],
      "source": [
        "!pip install ultralytics -q\n",
        "!pip install pyyaml -q"
      ]
    },
    {
      "cell_type": "code",
      "execution_count": 2,
      "metadata": {
        "id": "g7-bziMRSgf2"
      },
      "outputs": [],
      "source": [
        "from ultralytics import YOLO\n",
        "import cv2\n",
        "import numpy as np\n",
        "from google.colab.patches import cv2_imshow\n",
        "import yaml"
      ]
    },
    {
      "cell_type": "code",
      "execution_count": 3,
      "metadata": {
        "colab": {
          "base_uri": "https://localhost:8080/"
        },
        "id": "1sMaVgLnmjPa",
        "outputId": "fd27f49b-2b03-40c6-e987-9b5a73841f25"
      },
      "outputs": [
        {
          "output_type": "stream",
          "name": "stdout",
          "text": [
            "Mounted at /content/drive\n"
          ]
        }
      ],
      "source": [
        "from google.colab import drive\n",
        "drive.mount('/content/drive')"
      ]
    },
    {
      "cell_type": "code",
      "execution_count": 6,
      "metadata": {
        "colab": {
          "base_uri": "https://localhost:8080/"
        },
        "id": "VUKPX_dgm62F",
        "outputId": "d7654e23-df56-4b44-eb77-aa769be68019"
      },
      "outputs": [
        {
          "output_type": "stream",
          "name": "stdout",
          "text": [
            "/content/drive\n"
          ]
        }
      ],
      "source": [
        "cd \\drive"
      ]
    },
    {
      "cell_type": "code",
      "source": [
        "cd \\MyDrive"
      ],
      "metadata": {
        "colab": {
          "base_uri": "https://localhost:8080/"
        },
        "id": "i7BrBcosa3oN",
        "outputId": "758fb844-3706-4bef-e6c0-dd222e1c72d2"
      },
      "execution_count": 8,
      "outputs": [
        {
          "output_type": "stream",
          "name": "stdout",
          "text": [
            "/content/drive/MyDrive\n"
          ]
        }
      ]
    },
    {
      "cell_type": "code",
      "source": [
        "cd \\ANNAssign3"
      ],
      "metadata": {
        "colab": {
          "base_uri": "https://localhost:8080/"
        },
        "id": "XWQ6eF51bIwo",
        "outputId": "bb61ca00-e4c5-452c-db82-946d83031fc0"
      },
      "execution_count": 10,
      "outputs": [
        {
          "output_type": "stream",
          "name": "stdout",
          "text": [
            "/content/drive/MyDrive/ANNAssign3\n"
          ]
        }
      ]
    },
    {
      "cell_type": "code",
      "source": [
        "!pip install roboflow\n",
        "\n",
        "from roboflow import Roboflow\n",
        "rf = Roboflow(api_key=\"dKcqr3dBQsM876ExUncK\")\n",
        "project = rf.workspace(\"ann-prpoject\").project(\"actual\")\n",
        "dataset = project.version(1).download(\"yolov8\")\n"
      ],
      "metadata": {
        "id": "4esLwoTdbLTH"
      },
      "execution_count": null,
      "outputs": []
    },
    {
      "cell_type": "code",
      "source": [
        "!yolo task=detect mode=train model=yolov8s.pt data={dataset.location}/data.yaml epochs=30 imgsz=100 plots=True"
      ],
      "metadata": {
        "colab": {
          "base_uri": "https://localhost:8080/"
        },
        "id": "xweL98nOblnl",
        "outputId": "3fee185a-3049-4c87-a1bb-b836c6de4bac"
      },
      "execution_count": 13,
      "outputs": [
        {
          "output_type": "stream",
          "name": "stdout",
          "text": [
            "Ultralytics YOLOv8.0.180 🚀 Python-3.10.12 torch-2.0.1+cu118 CPU (AMD EPYC 7B12)\n",
            "\u001b[34m\u001b[1mengine/trainer: \u001b[0mtask=detect, mode=train, model=yolov8s.pt, data=/content/drive/MyDrive/ANNAssign3/actual-1/data.yaml, epochs=30, patience=50, batch=16, imgsz=100, save=True, save_period=-1, cache=False, device=None, workers=8, project=None, name=None, exist_ok=False, pretrained=True, optimizer=auto, verbose=True, seed=0, deterministic=True, single_cls=False, rect=False, cos_lr=False, close_mosaic=10, resume=False, amp=True, fraction=1.0, profile=False, freeze=None, overlap_mask=True, mask_ratio=4, dropout=0.0, val=True, split=val, save_json=False, save_hybrid=False, conf=None, iou=0.7, max_det=300, half=False, dnn=False, plots=True, source=None, show=False, save_txt=False, save_conf=False, save_crop=False, show_labels=True, show_conf=True, vid_stride=1, stream_buffer=False, line_width=None, visualize=False, augment=False, agnostic_nms=False, classes=None, retina_masks=False, boxes=True, format=torchscript, keras=False, optimize=False, int8=False, dynamic=False, simplify=False, opset=None, workspace=4, nms=False, lr0=0.01, lrf=0.01, momentum=0.937, weight_decay=0.0005, warmup_epochs=3.0, warmup_momentum=0.8, warmup_bias_lr=0.1, box=7.5, cls=0.5, dfl=1.5, pose=12.0, kobj=1.0, label_smoothing=0.0, nbs=64, hsv_h=0.015, hsv_s=0.7, hsv_v=0.4, degrees=0.0, translate=0.1, scale=0.5, shear=0.0, perspective=0.0, flipud=0.0, fliplr=0.5, mosaic=1.0, mixup=0.0, copy_paste=0.0, cfg=None, tracker=botsort.yaml, save_dir=runs/detect/train2\n",
            "Downloading https://ultralytics.com/assets/Arial.ttf to '/root/.config/Ultralytics/Arial.ttf'...\n",
            "100% 755k/755k [00:00<00:00, 25.0MB/s]\n",
            "Overriding model.yaml nc=80 with nc=2\n",
            "\n",
            "                   from  n    params  module                                       arguments                     \n",
            "  0                  -1  1       928  ultralytics.nn.modules.conv.Conv             [3, 32, 3, 2]                 \n",
            "  1                  -1  1     18560  ultralytics.nn.modules.conv.Conv             [32, 64, 3, 2]                \n",
            "  2                  -1  1     29056  ultralytics.nn.modules.block.C2f             [64, 64, 1, True]             \n",
            "  3                  -1  1     73984  ultralytics.nn.modules.conv.Conv             [64, 128, 3, 2]               \n",
            "  4                  -1  2    197632  ultralytics.nn.modules.block.C2f             [128, 128, 2, True]           \n",
            "  5                  -1  1    295424  ultralytics.nn.modules.conv.Conv             [128, 256, 3, 2]              \n",
            "  6                  -1  2    788480  ultralytics.nn.modules.block.C2f             [256, 256, 2, True]           \n",
            "  7                  -1  1   1180672  ultralytics.nn.modules.conv.Conv             [256, 512, 3, 2]              \n",
            "  8                  -1  1   1838080  ultralytics.nn.modules.block.C2f             [512, 512, 1, True]           \n",
            "  9                  -1  1    656896  ultralytics.nn.modules.block.SPPF            [512, 512, 5]                 \n",
            " 10                  -1  1         0  torch.nn.modules.upsampling.Upsample         [None, 2, 'nearest']          \n",
            " 11             [-1, 6]  1         0  ultralytics.nn.modules.conv.Concat           [1]                           \n",
            " 12                  -1  1    591360  ultralytics.nn.modules.block.C2f             [768, 256, 1]                 \n",
            " 13                  -1  1         0  torch.nn.modules.upsampling.Upsample         [None, 2, 'nearest']          \n",
            " 14             [-1, 4]  1         0  ultralytics.nn.modules.conv.Concat           [1]                           \n",
            " 15                  -1  1    148224  ultralytics.nn.modules.block.C2f             [384, 128, 1]                 \n",
            " 16                  -1  1    147712  ultralytics.nn.modules.conv.Conv             [128, 128, 3, 2]              \n",
            " 17            [-1, 12]  1         0  ultralytics.nn.modules.conv.Concat           [1]                           \n",
            " 18                  -1  1    493056  ultralytics.nn.modules.block.C2f             [384, 256, 1]                 \n",
            " 19                  -1  1    590336  ultralytics.nn.modules.conv.Conv             [256, 256, 3, 2]              \n",
            " 20             [-1, 9]  1         0  ultralytics.nn.modules.conv.Concat           [1]                           \n",
            " 21                  -1  1   1969152  ultralytics.nn.modules.block.C2f             [768, 512, 1]                 \n",
            " 22        [15, 18, 21]  1   2116822  ultralytics.nn.modules.head.Detect           [2, [128, 256, 512]]          \n",
            "Model summary: 225 layers, 11136374 parameters, 11136358 gradients\n",
            "\n",
            "Transferred 349/355 items from pretrained weights\n",
            "\u001b[34m\u001b[1mTensorBoard: \u001b[0mStart with 'tensorboard --logdir runs/detect/train2', view at http://localhost:6006/\n",
            "Freezing layer 'model.22.dfl.conv.weight'\n",
            "WARNING ⚠️ imgsz=[100] must be multiple of max stride 32, updating to [128]\n",
            "\u001b[34m\u001b[1mtrain: \u001b[0mScanning /content/drive/MyDrive/ANNAssign3/actual-1/train/labels... 1464 images, 0 backgrounds, 0 corrupt: 100% 1464/1464 [00:07<00:00, 196.37it/s]\n",
            "\u001b[34m\u001b[1mtrain: \u001b[0mNew cache created: /content/drive/MyDrive/ANNAssign3/actual-1/train/labels.cache\n",
            "\u001b[34m\u001b[1malbumentations: \u001b[0mBlur(p=0.01, blur_limit=(3, 7)), MedianBlur(p=0.01, blur_limit=(3, 7)), ToGray(p=0.01), CLAHE(p=0.01, clip_limit=(1, 4.0), tile_grid_size=(8, 8))\n",
            "\u001b[34m\u001b[1mval: \u001b[0mScanning /content/drive/MyDrive/ANNAssign3/actual-1/valid/labels... 81 images, 0 backgrounds, 0 corrupt: 100% 81/81 [00:00<00:00, 254.54it/s]\n",
            "\u001b[34m\u001b[1mval: \u001b[0mNew cache created: /content/drive/MyDrive/ANNAssign3/actual-1/valid/labels.cache\n",
            "Plotting labels to runs/detect/train2/labels.jpg... \n",
            "\u001b[34m\u001b[1moptimizer:\u001b[0m 'optimizer=auto' found, ignoring 'lr0=0.01' and 'momentum=0.937' and determining best 'optimizer', 'lr0' and 'momentum' automatically... \n",
            "\u001b[34m\u001b[1moptimizer:\u001b[0m AdamW(lr=0.001667, momentum=0.9) with parameter groups 57 weight(decay=0.0), 64 weight(decay=0.0005), 63 bias(decay=0.0)\n",
            "Image sizes 128 train, 128 val\n",
            "Using 0 dataloader workers\n",
            "Logging results to \u001b[1mruns/detect/train2\u001b[0m\n",
            "Starting training for 30 epochs...\n",
            "\n",
            "      Epoch    GPU_mem   box_loss   cls_loss   dfl_loss  Instances       Size\n",
            "       1/30         0G       1.25       2.04      1.283         17        128: 100% 92/92 [01:48<00:00,  1.18s/it]\n",
            "                 Class     Images  Instances      Box(P          R      mAP50  mAP50-95): 100% 3/3 [00:02<00:00,  1.06it/s]\n",
            "                   all         81         81      0.644      0.651      0.656      0.472\n",
            "\n",
            "      Epoch    GPU_mem   box_loss   cls_loss   dfl_loss  Instances       Size\n",
            "       2/30         0G      1.159      1.451      1.233         19        128: 100% 92/92 [01:45<00:00,  1.15s/it]\n",
            "                 Class     Images  Instances      Box(P          R      mAP50  mAP50-95): 100% 3/3 [00:02<00:00,  1.05it/s]\n",
            "                   all         81         81      0.799      0.715      0.856      0.537\n",
            "\n",
            "      Epoch    GPU_mem   box_loss   cls_loss   dfl_loss  Instances       Size\n",
            "       3/30         0G      1.165      1.406      1.226         25        128: 100% 92/92 [01:44<00:00,  1.14s/it]\n",
            "                 Class     Images  Instances      Box(P          R      mAP50  mAP50-95): 100% 3/3 [00:03<00:00,  1.10s/it]\n",
            "                   all         81         81      0.496        0.6      0.564      0.344\n",
            "\n",
            "      Epoch    GPU_mem   box_loss   cls_loss   dfl_loss  Instances       Size\n",
            "       4/30         0G      1.117      1.337      1.203         22        128: 100% 92/92 [01:44<00:00,  1.13s/it]\n",
            "                 Class     Images  Instances      Box(P          R      mAP50  mAP50-95): 100% 3/3 [00:03<00:00,  1.15s/it]\n",
            "                   all         81         81      0.676      0.726      0.784      0.527\n",
            "\n",
            "      Epoch    GPU_mem   box_loss   cls_loss   dfl_loss  Instances       Size\n",
            "       5/30         0G      1.067      1.252       1.19         17        128: 100% 92/92 [01:44<00:00,  1.13s/it]\n",
            "                 Class     Images  Instances      Box(P          R      mAP50  mAP50-95): 100% 3/3 [00:02<00:00,  1.00it/s]\n",
            "                   all         81         81      0.639      0.638      0.603      0.373\n",
            "\n",
            "      Epoch    GPU_mem   box_loss   cls_loss   dfl_loss  Instances       Size\n",
            "       6/30         0G      1.051      1.212      1.185         20        128: 100% 92/92 [01:45<00:00,  1.15s/it]\n",
            "                 Class     Images  Instances      Box(P          R      mAP50  mAP50-95): 100% 3/3 [00:02<00:00,  1.06it/s]\n",
            "                   all         81         81      0.762      0.646      0.743      0.511\n",
            "\n",
            "      Epoch    GPU_mem   box_loss   cls_loss   dfl_loss  Instances       Size\n",
            "       7/30         0G      1.002      1.129      1.161         24        128: 100% 92/92 [01:44<00:00,  1.14s/it]\n",
            "                 Class     Images  Instances      Box(P          R      mAP50  mAP50-95): 100% 3/3 [00:02<00:00,  1.08it/s]\n",
            "                   all         81         81      0.726      0.849      0.868       0.61\n",
            "\n",
            "      Epoch    GPU_mem   box_loss   cls_loss   dfl_loss  Instances       Size\n",
            "       8/30         0G     0.9642      1.113      1.144         20        128: 100% 92/92 [01:44<00:00,  1.14s/it]\n",
            "                 Class     Images  Instances      Box(P          R      mAP50  mAP50-95): 100% 3/3 [00:02<00:00,  1.07it/s]\n",
            "                   all         81         81       0.74      0.725       0.76      0.574\n",
            "\n",
            "      Epoch    GPU_mem   box_loss   cls_loss   dfl_loss  Instances       Size\n",
            "       9/30         0G     0.9328      1.043       1.13         13        128: 100% 92/92 [01:44<00:00,  1.13s/it]\n",
            "                 Class     Images  Instances      Box(P          R      mAP50  mAP50-95): 100% 3/3 [00:02<00:00,  1.07it/s]\n",
            "                   all         81         81      0.752      0.892      0.905      0.646\n",
            "\n",
            "      Epoch    GPU_mem   box_loss   cls_loss   dfl_loss  Instances       Size\n",
            "      10/30         0G     0.9174       1.01       1.12         16        128: 100% 92/92 [01:44<00:00,  1.13s/it]\n",
            "                 Class     Images  Instances      Box(P          R      mAP50  mAP50-95): 100% 3/3 [00:03<00:00,  1.22s/it]\n",
            "                   all         81         81      0.752      0.944      0.915      0.681\n",
            "\n",
            "      Epoch    GPU_mem   box_loss   cls_loss   dfl_loss  Instances       Size\n",
            "      11/30         0G      0.909      1.001      1.117         21        128: 100% 92/92 [01:44<00:00,  1.13s/it]\n",
            "                 Class     Images  Instances      Box(P          R      mAP50  mAP50-95): 100% 3/3 [00:02<00:00,  1.00it/s]\n",
            "                   all         81         81      0.824      0.838      0.889      0.648\n",
            "\n",
            "      Epoch    GPU_mem   box_loss   cls_loss   dfl_loss  Instances       Size\n",
            "      12/30         0G     0.8702     0.9428      1.097         15        128: 100% 92/92 [01:46<00:00,  1.16s/it]\n",
            "                 Class     Images  Instances      Box(P          R      mAP50  mAP50-95): 100% 3/3 [00:02<00:00,  1.02it/s]\n",
            "                   all         81         81      0.692      0.712       0.76      0.488\n",
            "\n",
            "      Epoch    GPU_mem   box_loss   cls_loss   dfl_loss  Instances       Size\n",
            "      13/30         0G     0.8577     0.9091       1.09         28        128: 100% 92/92 [01:44<00:00,  1.14s/it]\n",
            "                 Class     Images  Instances      Box(P          R      mAP50  mAP50-95): 100% 3/3 [00:02<00:00,  1.05it/s]\n",
            "                   all         81         81      0.847      0.841      0.925       0.69\n",
            "\n",
            "      Epoch    GPU_mem   box_loss   cls_loss   dfl_loss  Instances       Size\n",
            "      14/30         0G     0.8379     0.8765      1.088         15        128: 100% 92/92 [01:44<00:00,  1.14s/it]\n",
            "                 Class     Images  Instances      Box(P          R      mAP50  mAP50-95): 100% 3/3 [00:02<00:00,  1.06it/s]\n",
            "                   all         81         81       0.77       0.82      0.892      0.637\n",
            "\n",
            "      Epoch    GPU_mem   box_loss   cls_loss   dfl_loss  Instances       Size\n",
            "      15/30         0G     0.8422     0.8709      1.094         24        128: 100% 92/92 [01:44<00:00,  1.13s/it]\n",
            "                 Class     Images  Instances      Box(P          R      mAP50  mAP50-95): 100% 3/3 [00:02<00:00,  1.02it/s]\n",
            "                   all         81         81      0.893      0.922      0.958      0.712\n",
            "\n",
            "      Epoch    GPU_mem   box_loss   cls_loss   dfl_loss  Instances       Size\n",
            "      16/30         0G     0.8131     0.8268      1.074         25        128: 100% 92/92 [01:44<00:00,  1.14s/it]\n",
            "                 Class     Images  Instances      Box(P          R      mAP50  mAP50-95): 100% 3/3 [00:03<00:00,  1.23s/it]\n",
            "                   all         81         81      0.775      0.861      0.916      0.709\n",
            "\n",
            "      Epoch    GPU_mem   box_loss   cls_loss   dfl_loss  Instances       Size\n",
            "      17/30         0G     0.7752     0.7897       1.05         15        128: 100% 92/92 [01:44<00:00,  1.13s/it]\n",
            "                 Class     Images  Instances      Box(P          R      mAP50  mAP50-95): 100% 3/3 [00:03<00:00,  1.07s/it]\n",
            "                   all         81         81      0.854      0.862      0.921      0.695\n",
            "\n",
            "      Epoch    GPU_mem   box_loss   cls_loss   dfl_loss  Instances       Size\n",
            "      18/30         0G     0.7824     0.7736      1.056         21        128: 100% 92/92 [01:44<00:00,  1.14s/it]\n",
            "                 Class     Images  Instances      Box(P          R      mAP50  mAP50-95): 100% 3/3 [00:02<00:00,  1.07it/s]\n",
            "                   all         81         81      0.906      0.821      0.914      0.716\n",
            "\n",
            "      Epoch    GPU_mem   box_loss   cls_loss   dfl_loss  Instances       Size\n",
            "      19/30         0G     0.7622     0.7582      1.051         18        128: 100% 92/92 [01:44<00:00,  1.14s/it]\n",
            "                 Class     Images  Instances      Box(P          R      mAP50  mAP50-95): 100% 3/3 [00:02<00:00,  1.09it/s]\n",
            "                   all         81         81       0.85      0.839       0.92      0.709\n",
            "\n",
            "      Epoch    GPU_mem   box_loss   cls_loss   dfl_loss  Instances       Size\n",
            "      20/30         0G     0.7571     0.7463      1.045         18        128: 100% 92/92 [01:45<00:00,  1.14s/it]\n",
            "                 Class     Images  Instances      Box(P          R      mAP50  mAP50-95): 100% 3/3 [00:02<00:00,  1.05it/s]\n",
            "                   all         81         81      0.869      0.853      0.921      0.716\n",
            "Closing dataloader mosaic\n",
            "\u001b[34m\u001b[1malbumentations: \u001b[0mBlur(p=0.01, blur_limit=(3, 7)), MedianBlur(p=0.01, blur_limit=(3, 7)), ToGray(p=0.01), CLAHE(p=0.01, clip_limit=(1, 4.0), tile_grid_size=(8, 8))\n",
            "\n",
            "      Epoch    GPU_mem   box_loss   cls_loss   dfl_loss  Instances       Size\n",
            "      21/30         0G     0.6463     0.5943     0.9654          8        128: 100% 92/92 [01:46<00:00,  1.16s/it]\n",
            "                 Class     Images  Instances      Box(P          R      mAP50  mAP50-95): 100% 3/3 [00:02<00:00,  1.03it/s]\n",
            "                   all         81         81      0.935      0.877       0.97      0.771\n",
            "\n",
            "      Epoch    GPU_mem   box_loss   cls_loss   dfl_loss  Instances       Size\n",
            "      22/30         0G     0.6306     0.5331     0.9547          8        128: 100% 92/92 [01:43<00:00,  1.12s/it]\n",
            "                 Class     Images  Instances      Box(P          R      mAP50  mAP50-95): 100% 3/3 [00:03<00:00,  1.01s/it]\n",
            "                   all         81         81      0.971      0.892      0.974      0.779\n",
            "\n",
            "      Epoch    GPU_mem   box_loss   cls_loss   dfl_loss  Instances       Size\n",
            "      23/30         0G     0.5999     0.5042      0.959          8        128: 100% 92/92 [01:42<00:00,  1.12s/it]\n",
            "                 Class     Images  Instances      Box(P          R      mAP50  mAP50-95): 100% 3/3 [00:03<00:00,  1.13s/it]\n",
            "                   all         81         81       0.93      0.888       0.98      0.745\n",
            "\n",
            "      Epoch    GPU_mem   box_loss   cls_loss   dfl_loss  Instances       Size\n",
            "      24/30         0G     0.5839     0.4507     0.9434          8        128: 100% 92/92 [01:42<00:00,  1.11s/it]\n",
            "                 Class     Images  Instances      Box(P          R      mAP50  mAP50-95): 100% 3/3 [00:03<00:00,  1.14s/it]\n",
            "                   all         81         81      0.892      0.955      0.981       0.79\n",
            "\n",
            "      Epoch    GPU_mem   box_loss   cls_loss   dfl_loss  Instances       Size\n",
            "      25/30         0G     0.5722     0.4301     0.9367          8        128: 100% 92/92 [01:42<00:00,  1.12s/it]\n",
            "                 Class     Images  Instances      Box(P          R      mAP50  mAP50-95): 100% 3/3 [00:03<00:00,  1.18s/it]\n",
            "                   all         81         81      0.957       0.95      0.988      0.802\n",
            "\n",
            "      Epoch    GPU_mem   box_loss   cls_loss   dfl_loss  Instances       Size\n",
            "      26/30         0G     0.5351     0.4153     0.9248          8        128: 100% 92/92 [01:45<00:00,  1.15s/it]\n",
            "                 Class     Images  Instances      Box(P          R      mAP50  mAP50-95): 100% 3/3 [00:03<00:00,  1.09s/it]\n",
            "                   all         81         81      0.951       0.98      0.979       0.79\n",
            "\n",
            "      Epoch    GPU_mem   box_loss   cls_loss   dfl_loss  Instances       Size\n",
            "      27/30         0G     0.5396     0.3855     0.9198          7        128: 100% 92/92 [01:42<00:00,  1.12s/it]\n",
            "                 Class     Images  Instances      Box(P          R      mAP50  mAP50-95): 100% 3/3 [00:03<00:00,  1.01s/it]\n",
            "                   all         81         81      0.917      0.984      0.978      0.799\n",
            "\n",
            "      Epoch    GPU_mem   box_loss   cls_loss   dfl_loss  Instances       Size\n",
            "      28/30         0G     0.5246     0.3868     0.9176          8        128: 100% 92/92 [01:43<00:00,  1.12s/it]\n",
            "                 Class     Images  Instances      Box(P          R      mAP50  mAP50-95): 100% 3/3 [00:03<00:00,  1.02s/it]\n",
            "                   all         81         81        0.9      0.971      0.974      0.805\n",
            "\n",
            "      Epoch    GPU_mem   box_loss   cls_loss   dfl_loss  Instances       Size\n",
            "      29/30         0G     0.5025     0.3628     0.9071          8        128: 100% 92/92 [01:43<00:00,  1.13s/it]\n",
            "                 Class     Images  Instances      Box(P          R      mAP50  mAP50-95): 100% 3/3 [00:02<00:00,  1.04it/s]\n",
            "                   all         81         81       0.92      0.934      0.969      0.812\n",
            "\n",
            "      Epoch    GPU_mem   box_loss   cls_loss   dfl_loss  Instances       Size\n",
            "      30/30         0G     0.4916     0.3405     0.9042          8        128: 100% 92/92 [01:43<00:00,  1.13s/it]\n",
            "                 Class     Images  Instances      Box(P          R      mAP50  mAP50-95): 100% 3/3 [00:02<00:00,  1.05it/s]\n",
            "                   all         81         81      0.901      0.984      0.982      0.819\n",
            "\n",
            "30 epochs completed in 0.904 hours.\n",
            "Optimizer stripped from runs/detect/train2/weights/last.pt, 22.5MB\n",
            "Optimizer stripped from runs/detect/train2/weights/best.pt, 22.5MB\n",
            "\n",
            "Validating runs/detect/train2/weights/best.pt...\n",
            "Ultralytics YOLOv8.0.180 🚀 Python-3.10.12 torch-2.0.1+cu118 CPU (AMD EPYC 7B12)\n",
            "Model summary (fused): 168 layers, 11126358 parameters, 0 gradients\n",
            "                 Class     Images  Instances      Box(P          R      mAP50  mAP50-95): 100% 3/3 [00:04<00:00,  1.39s/it]\n",
            "                   all         81         81      0.901      0.984      0.982      0.819\n",
            "                     0         81         31      0.934      0.968      0.984      0.733\n",
            "                     2         81         50      0.869          1      0.981      0.906\n",
            "Speed: 0.1ms preprocess, 32.8ms inference, 0.0ms loss, 0.2ms postprocess per image\n",
            "Results saved to \u001b[1mruns/detect/train2\u001b[0m\n",
            "💡 Learn more at https://docs.ultralytics.com/modes/train\n"
          ]
        }
      ]
    },
    {
      "cell_type": "code",
      "execution_count": null,
      "metadata": {
        "id": "vU0yRBsXQ8Q4"
      },
      "outputs": [],
      "source": [
        "ls"
      ]
    },
    {
      "cell_type": "code",
      "execution_count": null,
      "metadata": {
        "id": "LuoiPrVDMXVb"
      },
      "outputs": [],
      "source": [
        "model = YOLO(\"/content/bestopen.pt\")"
      ]
    },
    {
      "cell_type": "code",
      "execution_count": null,
      "metadata": {
        "colab": {
          "base_uri": "https://localhost:8080/"
        },
        "id": "IrDW71wFT4U9",
        "outputId": "b51d18bc-b8bd-43b0-f229-9be09f7f4816"
      },
      "outputs": [
        {
          "name": "stderr",
          "output_type": "stream",
          "text": [
            "\n",
            "image 1/1 /content/r10s5.jpg: 800x800 1 2, 684.4ms\n",
            "Speed: 3.8ms preprocess, 684.4ms inference, 0.7ms postprocess per image at shape (1, 3, 800, 800)\n",
            "Results saved to \u001b[1mruns/detect/predict4\u001b[0m\n",
            "1 label saved to runs/detect/predict4/labels\n"
          ]
        }
      ],
      "source": [
        "predict = model.predict(\"/content/r10s5.jpg\", save = True, save_txt = True)"
      ]
    },
    {
      "cell_type": "code",
      "execution_count": null,
      "metadata": {
        "id": "lj2Rhvh_USBd"
      },
      "outputs": [],
      "source": [
        "list = open(\"/content/runs/detect/predict4/labels/r10s5.txt\",\"r\").readlines()"
      ]
    },
    {
      "cell_type": "code",
      "execution_count": null,
      "metadata": {
        "colab": {
          "base_uri": "https://localhost:8080/"
        },
        "id": "vry0dy15YzyN",
        "outputId": "4957713a-af47-4e28-ec9c-bd62808fa58f"
      },
      "outputs": [
        {
          "data": {
            "text/plain": [
              "['2 0.145604 0.617209 0.238682 0.587995\\n']"
            ]
          },
          "execution_count": 18,
          "metadata": {},
          "output_type": "execute_result"
        }
      ],
      "source": [
        "list"
      ]
    },
    {
      "cell_type": "code",
      "execution_count": null,
      "metadata": {
        "id": "duvQgFXcY2TN"
      },
      "outputs": [],
      "source": [
        "li = list[0].split()"
      ]
    },
    {
      "cell_type": "code",
      "execution_count": null,
      "metadata": {
        "id": "4Ua55jbYaCwc"
      },
      "outputs": [],
      "source": [
        "xc, yc, nw, nh = float(li[1]), float(li[2]), float(li[3]), float(li[4]),"
      ]
    },
    {
      "cell_type": "code",
      "execution_count": null,
      "metadata": {
        "colab": {
          "base_uri": "https://localhost:8080/"
        },
        "id": "QdfD_j_Ncgfr",
        "outputId": "fd880b1a-7d54-4eda-a265-04794215b770"
      },
      "outputs": [
        {
          "data": {
            "text/plain": [
              "(0.145604, 0.617209, 0.238682, 0.587995)"
            ]
          },
          "execution_count": 21,
          "metadata": {},
          "output_type": "execute_result"
        }
      ],
      "source": [
        "xc,yc,nw,nh"
      ]
    },
    {
      "cell_type": "code",
      "execution_count": null,
      "metadata": {
        "id": "D4h0F-89ac9k"
      },
      "outputs": [],
      "source": [
        "img = cv2.imread(\"/content/runs/detect/predict4/r10s5.jpg\")\n",
        "h, w = img.shape[0], img.shape[1]"
      ]
    },
    {
      "cell_type": "code",
      "execution_count": null,
      "metadata": {
        "colab": {
          "base_uri": "https://localhost:8080/"
        },
        "id": "vixgnF3TcHgE",
        "outputId": "99c38561-95b7-4116-8d1c-5bd506f2b8d4"
      },
      "outputs": [
        {
          "data": {
            "text/plain": [
              "(512, 512)"
            ]
          },
          "execution_count": 23,
          "metadata": {},
          "output_type": "execute_result"
        }
      ],
      "source": [
        "h,w"
      ]
    },
    {
      "cell_type": "code",
      "execution_count": null,
      "metadata": {
        "id": "7nU1KT5Aa1Uk"
      },
      "outputs": [],
      "source": [
        "xc = w*xc\n",
        "yc = h*yc\n",
        "nw = w*nw\n",
        "nh = h*nh\n",
        "top_left = (int(xc - nw/2),int(yc - nh/2))\n",
        "bottom_right = (int(xc + nw/2),int(yc + nh/2))"
      ]
    },
    {
      "cell_type": "code",
      "execution_count": null,
      "metadata": {
        "colab": {
          "base_uri": "https://localhost:8080/"
        },
        "id": "DfGuIdDDcOPN",
        "outputId": "7a44a502-c8c0-482c-8cfc-2296a8565b3b"
      },
      "outputs": [
        {
          "data": {
            "text/plain": [
              "(74.549248, 316.011008, 122.205184, 301.05344)"
            ]
          },
          "execution_count": 25,
          "metadata": {},
          "output_type": "execute_result"
        }
      ],
      "source": [
        "xc,yc,nw,nh"
      ]
    },
    {
      "cell_type": "code",
      "execution_count": null,
      "metadata": {
        "colab": {
          "base_uri": "https://localhost:8080/"
        },
        "id": "thbuW-jAb83k",
        "outputId": "69713cf1-9aae-4729-ff14-f441c60baa5c"
      },
      "outputs": [
        {
          "data": {
            "text/plain": [
              "((13, 165), (135, 466))"
            ]
          },
          "execution_count": 26,
          "metadata": {},
          "output_type": "execute_result"
        }
      ],
      "source": [
        "top_left , bottom_right"
      ]
    },
    {
      "cell_type": "code",
      "execution_count": null,
      "metadata": {
        "id": "dS0yWYsIc9w-"
      },
      "outputs": [],
      "source": [
        "from PIL import Image\n",
        "image = Image.open('/content/drive/MyDrive/MS EE AI AS/ANN/ANN Project/Finalized/runs/detect/predict/rgb_7.jpg')"
      ]
    },
    {
      "cell_type": "code",
      "execution_count": null,
      "metadata": {
        "id": "TjWuz5KphlhH"
      },
      "outputs": [],
      "source": [
        "from google.colab.patches import cv2_imshow"
      ]
    },
    {
      "cell_type": "code",
      "execution_count": null,
      "metadata": {
        "id": "CMufZpbzddJT"
      },
      "outputs": [],
      "source": [
        "x1, y1 = top_left\n",
        "x2, y2 = bottom_right"
      ]
    },
    {
      "cell_type": "code",
      "execution_count": null,
      "metadata": {
        "colab": {
          "base_uri": "https://localhost:8080/"
        },
        "id": "qLwEs5asdjfT",
        "outputId": "01a99431-10c1-4797-a529-715a12c7e931"
      },
      "outputs": [
        {
          "data": {
            "text/plain": [
              "(223, 0, 512, 473)"
            ]
          },
          "execution_count": 24,
          "metadata": {},
          "output_type": "execute_result"
        }
      ],
      "source": [
        "x1,y1,x2,y2"
      ]
    },
    {
      "cell_type": "code",
      "execution_count": null,
      "metadata": {
        "colab": {
          "base_uri": "https://localhost:8080/"
        },
        "id": "bm5AZVda9JvJ",
        "outputId": "03e4303d-0aff-4d05-aa38-9ec1807da577"
      },
      "outputs": [
        {
          "name": "stdout",
          "output_type": "stream",
          "text": [
            "Requirement already satisfied: roboflow in /usr/local/lib/python3.10/dist-packages (1.1.6)\n",
            "Requirement already satisfied: certifi==2022.12.7 in /usr/local/lib/python3.10/dist-packages (from roboflow) (2022.12.7)\n",
            "Requirement already satisfied: chardet==4.0.0 in /usr/local/lib/python3.10/dist-packages (from roboflow) (4.0.0)\n",
            "Requirement already satisfied: cycler==0.10.0 in /usr/local/lib/python3.10/dist-packages (from roboflow) (0.10.0)\n",
            "Requirement already satisfied: idna==2.10 in /usr/local/lib/python3.10/dist-packages (from roboflow) (2.10)\n",
            "Requirement already satisfied: kiwisolver>=1.3.1 in /usr/local/lib/python3.10/dist-packages (from roboflow) (1.4.5)\n",
            "Requirement already satisfied: matplotlib in /usr/local/lib/python3.10/dist-packages (from roboflow) (3.7.1)\n",
            "Requirement already satisfied: numpy>=1.18.5 in /usr/local/lib/python3.10/dist-packages (from roboflow) (1.23.5)\n",
            "Requirement already satisfied: opencv-python-headless==4.8.0.74 in /usr/local/lib/python3.10/dist-packages (from roboflow) (4.8.0.74)\n",
            "Requirement already satisfied: Pillow>=7.1.2 in /usr/local/lib/python3.10/dist-packages (from roboflow) (9.4.0)\n",
            "Requirement already satisfied: pyparsing==2.4.7 in /usr/local/lib/python3.10/dist-packages (from roboflow) (2.4.7)\n",
            "Requirement already satisfied: python-dateutil in /usr/local/lib/python3.10/dist-packages (from roboflow) (2.8.2)\n",
            "Requirement already satisfied: python-dotenv in /usr/local/lib/python3.10/dist-packages (from roboflow) (1.0.0)\n",
            "Requirement already satisfied: requests in /usr/local/lib/python3.10/dist-packages (from roboflow) (2.31.0)\n",
            "Requirement already satisfied: six in /usr/local/lib/python3.10/dist-packages (from roboflow) (1.16.0)\n",
            "Requirement already satisfied: supervision in /usr/local/lib/python3.10/dist-packages (from roboflow) (0.14.0)\n",
            "Requirement already satisfied: urllib3>=1.26.6 in /usr/local/lib/python3.10/dist-packages (from roboflow) (2.0.4)\n",
            "Requirement already satisfied: tqdm>=4.41.0 in /usr/local/lib/python3.10/dist-packages (from roboflow) (4.66.1)\n",
            "Requirement already satisfied: PyYAML>=5.3.1 in /usr/local/lib/python3.10/dist-packages (from roboflow) (6.0.1)\n",
            "Requirement already satisfied: requests-toolbelt in /usr/local/lib/python3.10/dist-packages (from roboflow) (1.0.0)\n",
            "Requirement already satisfied: contourpy>=1.0.1 in /usr/local/lib/python3.10/dist-packages (from matplotlib->roboflow) (1.1.0)\n",
            "Requirement already satisfied: fonttools>=4.22.0 in /usr/local/lib/python3.10/dist-packages (from matplotlib->roboflow) (4.42.1)\n",
            "Requirement already satisfied: packaging>=20.0 in /usr/local/lib/python3.10/dist-packages (from matplotlib->roboflow) (23.1)\n",
            "Requirement already satisfied: charset-normalizer<4,>=2 in /usr/local/lib/python3.10/dist-packages (from requests->roboflow) (3.2.0)\n",
            "Requirement already satisfied: scipy<2.0.0,>=1.9.0 in /usr/local/lib/python3.10/dist-packages (from supervision->roboflow) (1.11.2)\n",
            "loading Roboflow workspace...\n",
            "loading Roboflow project...\n",
            "Dependency ultralytics==8.0.134 is required but found version=8.0.180, to fix: `pip install ultralytics==8.0.134`\n"
          ]
        },
        {
          "name": "stderr",
          "output_type": "stream",
          "text": [
            "Downloading Dataset Version Zip in doors-1 to yolov8:: 100%|██████████| 376136/376136 [00:41<00:00, 9139.19it/s]"
          ]
        },
        {
          "name": "stdout",
          "output_type": "stream",
          "text": [
            "\n"
          ]
        },
        {
          "name": "stderr",
          "output_type": "stream",
          "text": [
            "\n",
            "Extracting Dataset Version Zip to doors-1 in yolov8:: 100%|██████████| 13928/13928 [01:34<00:00, 148.01it/s]\n"
          ]
        }
      ],
      "source": [
        "!pip install roboflow\n",
        "\n",
        "from roboflow import Roboflow\n",
        "rf = Roboflow(api_key=\"dKcqr3dBQsM876ExUncK\")\n",
        "project = rf.workspace(\"mohammed-naji\").project(\"doors-6g8eb\")\n",
        "dataset = project.version(1).download(\"yolov8\")\n"
      ]
    },
    {
      "cell_type": "code",
      "execution_count": null,
      "metadata": {
        "colab": {
          "base_uri": "https://localhost:8080/"
        },
        "id": "0aTgTLg2vWwx",
        "outputId": "55f24fa3-766a-4b8d-ca29-e9588f617f44"
      },
      "outputs": [
        {
          "name": "stdout",
          "output_type": "stream",
          "text": [
            " 1080_30_17.00_Aug132020_01.mp4\n",
            "'Ali Hassan - naaaat.m4a'\n",
            "'Ali Hassan Resume.pdf'\n",
            " \u001b[0m\u001b[01;34mANNAssign3\u001b[0m/\n",
            " Asmad-Poster2.pdf\n",
            " Asmad-Poster.pdf\n",
            "'Assignment #2'\n",
            "'Assignment #2 (1)'\n",
            "\u001b[01;34m'Colab Notebooks'\u001b[0m/\n",
            "'Contact Information (1).gform'\n",
            "\u001b[01;34m'Contact Information (File responses)'\u001b[0m/\n",
            "\u001b[01;34m'Contact Information (File responses) (1)'\u001b[0m/\n",
            "'Contact Information.gform'\n",
            "'Contact Information (Responses).gsheet'\n",
            "\u001b[01;34m'CPP Progms'\u001b[0m/\n",
            "\u001b[01;34m'CV resume workshop '\u001b[0m/\n",
            " \u001b[01;34mcvs\u001b[0m/\n",
            "\u001b[01;34m'CV vs Resume'\u001b[0m/\n",
            "'DISCOs Jobs MOCK TEST REGISTRATION - copy.gform'\n",
            "'DISCOs Jobs MOCK TEST REGISTRATION_exported_on_Sat Aug 19 2023 23:08:38 GMT+0530 (IST).gsheet'\n",
            "'DISCOs Jobs MOCK TEST REGISTRATION_exported_on_Sat Aug 19 2023 23:08:47 GMT+0530 (IST).gsheet'\n",
            " dog1.jpg\n",
            " \u001b[01;34mdoors-1\u001b[0m/\n",
            "\u001b[01;34m'Electrical '\u001b[0m/\n",
            "'Electrical Engineering Objective Type by M. Handa & A. Handa (2).pdf'\n",
            "'Electrical Technology (Objective) by V.K Mehta.pdf'\n",
            "'Engineering Job Sector.pptx'\n",
            "'Engineering Jobs Test Preparation Books .gform'\n",
            "'Engineering Job Tests Preparation Books Purchase Portal_exported_on_Mon Oct 03 2022 14:36:16 GMT+0530 (IST).gsheet'\n",
            "'Engineering Job Tests Preparation Books Purchase Portal_exported_on_Mon Oct 10 2022 12:41:01 GMT+0530 (IST).gsheet'\n",
            "'Engineering Job Tests Preparation Books Purchase Portal_exported_on_Sun Oct 02 2022 18:36:14 GMT+0530 (IST).gsheet'\n",
            "'Engineering Job Tests Preparation Books Purchase Portal_exported_on_Sun Oct 17 2021 15:57:20 GMT+0530 (IST).gsheet'\n",
            "'Engineering Job Tests Preparation Books Purchase Portal_exported_on_Tue Oct 11 2022 10:58:33 GMT+0530 (IST).gsheet'\n",
            "'Event Registration.gform'\n",
            " FB_IMG_1665297248648.jpg\n",
            "'fyp poster.pdf'\n",
            " \u001b[01;34mfyps\u001b[0m/\n",
            "'General .gform'\n",
            "'GEPCO MOCK TEST REGISTRATION_exported_on_Sat Feb 19 2022 16:27:00 GMT+0530 (IST).gsheet'\n",
            "'GEPCO MOCK TEST REGISTRATION_exported_on_Sun Feb 20 2022 09:23:47 GMT+0530 (IST).gsheet'\n",
            "'Getting started.pdf'\n",
            "'Google Keep Document (1).gdoc'\n",
            "'Google Keep Document.gdoc'\n",
            " hashar.m4a\n",
            "'Hassan CV Resume Updated.pdf'\n",
            "'Hassan Resume Updated-1.pdf'\n",
            "'https:  youtu.b.txt'\n",
            "'Huzaifa Tahir resume.pdf'\n",
            " \u001b[01;34mIEEE\u001b[0m/\n",
            " IELTS.jpg\n",
            " IMG-20220905-WA0016.jpg\n",
            " IMG-20220906-WA0000.jpg\n",
            " IMG-20220907-WA0003.jpg\n",
            " IMG-20220909-WA0003.jpg\n",
            " IMG-20220910-WA0001.jpg\n",
            " IMG-20220911-WA0002.jpg\n",
            " IMG-20220911-WA0004.jpg\n",
            " IMG-20220920-WA0003.jpg\n",
            " IMG-20220923-WA0004.jpg\n",
            " IMG-20220930-WA0000.jpg\n",
            " IMG-20221001-WA0000.jpg\n",
            " IMG-20221002-WA0000.jpg\n",
            " IMG-20221003-WA0003.jpg\n",
            " IMG-20221006-WA0012.jpg\n",
            " IMG-20221006-WA0013.jpg\n",
            " IMG-20221009-WA0002.jpg\n",
            " IMG-20221015-WA0008.jpg\n",
            " IMG-20221016-WA0003.jpg\n",
            " IMG-20221016-WA0004.jpg\n",
            " IMG-20221022-WA0013.jpg\n",
            " IMG-20221023-WA0001.jpg\n",
            " IMG-20221030-WA0000.jpg\n",
            " IMG-20221030-WA0001.jpg\n",
            " IMG-20221102-WA0002.jpg\n",
            " IMG-20221103-WA0022.jpg\n",
            " IMG-20221111-WA0006.jpg\n",
            " IMG-20221113-WA0014.jpg\n",
            " IMG-20221113-WA0015.jpg\n",
            " IMG-20221115-WA0005.jpg\n",
            " IMG-20221116-WA0000.jpg\n",
            " IMG-20221128-WA0000.jpg\n",
            "'important tips'\n",
            " InShot_20230525_111043694.mp4\n",
            "'Jawad case.gdoc'\n",
            "'Job Application.gform'\n",
            "'k quiz'\n",
            "'Lego Workshop.gdoc'\n",
            "'Letter of Recommendations.pdf'\n",
            "'mama in nust.jpg'\n",
            " \u001b[01;34mMemes\u001b[0m/\n",
            "'MEPCO TEST 2022.pdf'\n",
            "\u001b[01;34m'MS EE AI AS'\u001b[0m/\n",
            "'MS Transcript.pdf'\n",
            " NGIRI\n",
            "'NTDC MOCK TEST 2 REGISTRATION_exported_on_Fri Jul 02 2021 23:11:54 GMT+0530 (IST).gsheet'\n",
            "'NTDC MOCK TEST 2 REGISTRATION_exported_on_Mon Jul 26 2021 13:19:02 GMT+0530 (IST).gsheet'\n",
            "'NTDC MOCK TEST 2 REGISTRATION_exported_on_Sun Jul 04 2021 16:11:30 GMT+0530 (IST).gsheet'\n",
            "'NTDC MOCK TEST 2 REGISTRATION_exported_on_Tue Jul 20 2021 19:27:30 GMT+0530 (IST).gsheet'\n",
            "'NTDC MOCK TEST 2 REGISTRATION_exported_on_Tue Jul 20 2021 19:27:34 GMT+0530 (IST).gsheet'\n",
            "'NTDC MOCK TEST 2 REGISTRATION_exported_on_Tue Jul 20 2021 19:27:53 GMT+0530 (IST).gsheet'\n",
            "\u001b[01;34m'NTDC MOCK TEST 2 REGISTRATION (File responses)'\u001b[0m/\n",
            "'NTDC MOCK TEST REGISTRATION - copy.gform'\n",
            "'NTDC MOCK TEST REGISTRATION_exported_on_Mon May 31 2021 21:46:31 GMT+0530 (IST).gsheet'\n",
            "'NTDC MOCK TEST REGISTRATION_exported_on_Mon May 31 2021 21:46:34 GMT+0530 (IST).gsheet'\n",
            "'NTDC MOCK TEST REGISTRATION_exported_on_Sat Jun 05 2021 12:51:22 GMT+0530 (IST).gsheet'\n",
            "'NTDC MOCK TEST REGISTRATION_exported_on_Sat Jun 05 2021 14:35:20 GMT+0530 (IST).gsheet'\n",
            "'NTDC MOCK TEST REGISTRATION_exported_on_Tue Jun 01 2021 18:48:08 GMT+0530 (IST).gsheet'\n",
            "'NTDC MOCK TEST REGISTRATION_exported_on_Wed Jun 09 2021 21:17:16 GMT+0530 (IST).gsheet'\n",
            " partym.mp4\n",
            " passport.jpg\n",
            "'pesco test 2022.pdf'\n",
            " PicsArt_05-25-08.19.38.jpg\n",
            "'PicsArt_12-25-04.33.32 (1).jpg'\n",
            " PicsArt_12-25-04.33.32.jpg\n",
            "\u001b[01;34m'Programming lab'\u001b[0m/\n",
            "'psychological test'\n",
            " Screenshot_20220322-212953_Gallery.jpg\n",
            "'SDP Poster-1.pdf'\n",
            "\u001b[01;34m'Skyelectric Pvt Ltd (File responses)'\u001b[0m/\n",
            " \u001b[01;34mSMME\u001b[0m/\n",
            " transcript.pdf\n",
            " Untitled0.ipynb\n",
            "'Untitled form (1).gform'\n",
            "'Untitled form.gform'\n",
            "'شعر .gdoc'\n"
          ]
        }
      ],
      "source": [
        "ls"
      ]
    },
    {
      "cell_type": "code",
      "execution_count": null,
      "metadata": {
        "colab": {
          "background_save": true,
          "base_uri": "https://localhost:8080/"
        },
        "id": "4X1dQdEBSBR9",
        "outputId": "d4cb891d-a7fd-410e-d27a-568aceacd6ae"
      },
      "outputs": [
        {
          "name": "stdout",
          "output_type": "stream",
          "text": [
            "Ultralytics YOLOv8.0.180 🚀 Python-3.10.12 torch-2.0.1+cu118 CPU (AMD EPYC 7B12)\n",
            "\u001b[34m\u001b[1mengine/trainer: \u001b[0mtask=detect, mode=train, model=yolov8s.pt, data=/content/drive/MyDrive/doors-1/data.yaml, epochs=30, patience=50, batch=16, imgsz=100, save=True, save_period=-1, cache=False, device=None, workers=8, project=None, name=None, exist_ok=False, pretrained=True, optimizer=auto, verbose=True, seed=0, deterministic=True, single_cls=False, rect=False, cos_lr=False, close_mosaic=10, resume=False, amp=True, fraction=1.0, profile=False, freeze=None, overlap_mask=True, mask_ratio=4, dropout=0.0, val=True, split=val, save_json=False, save_hybrid=False, conf=None, iou=0.7, max_det=300, half=False, dnn=False, plots=True, source=None, show=False, save_txt=False, save_conf=False, save_crop=False, show_labels=True, show_conf=True, vid_stride=1, stream_buffer=False, line_width=None, visualize=False, augment=False, agnostic_nms=False, classes=None, retina_masks=False, boxes=True, format=torchscript, keras=False, optimize=False, int8=False, dynamic=False, simplify=False, opset=None, workspace=4, nms=False, lr0=0.01, lrf=0.01, momentum=0.937, weight_decay=0.0005, warmup_epochs=3.0, warmup_momentum=0.8, warmup_bias_lr=0.1, box=7.5, cls=0.5, dfl=1.5, pose=12.0, kobj=1.0, label_smoothing=0.0, nbs=64, hsv_h=0.015, hsv_s=0.7, hsv_v=0.4, degrees=0.0, translate=0.1, scale=0.5, shear=0.0, perspective=0.0, flipud=0.0, fliplr=0.5, mosaic=1.0, mixup=0.0, copy_paste=0.0, cfg=None, tracker=botsort.yaml, save_dir=runs/detect/train3\n",
            "Overriding model.yaml nc=80 with nc=3\n",
            "\n",
            "                   from  n    params  module                                       arguments                     \n",
            "  0                  -1  1       928  ultralytics.nn.modules.conv.Conv             [3, 32, 3, 2]                 \n",
            "  1                  -1  1     18560  ultralytics.nn.modules.conv.Conv             [32, 64, 3, 2]                \n",
            "  2                  -1  1     29056  ultralytics.nn.modules.block.C2f             [64, 64, 1, True]             \n",
            "  3                  -1  1     73984  ultralytics.nn.modules.conv.Conv             [64, 128, 3, 2]               \n",
            "  4                  -1  2    197632  ultralytics.nn.modules.block.C2f             [128, 128, 2, True]           \n",
            "  5                  -1  1    295424  ultralytics.nn.modules.conv.Conv             [128, 256, 3, 2]              \n",
            "  6                  -1  2    788480  ultralytics.nn.modules.block.C2f             [256, 256, 2, True]           \n",
            "  7                  -1  1   1180672  ultralytics.nn.modules.conv.Conv             [256, 512, 3, 2]              \n",
            "  8                  -1  1   1838080  ultralytics.nn.modules.block.C2f             [512, 512, 1, True]           \n",
            "  9                  -1  1    656896  ultralytics.nn.modules.block.SPPF            [512, 512, 5]                 \n",
            " 10                  -1  1         0  torch.nn.modules.upsampling.Upsample         [None, 2, 'nearest']          \n",
            " 11             [-1, 6]  1         0  ultralytics.nn.modules.conv.Concat           [1]                           \n",
            " 12                  -1  1    591360  ultralytics.nn.modules.block.C2f             [768, 256, 1]                 \n",
            " 13                  -1  1         0  torch.nn.modules.upsampling.Upsample         [None, 2, 'nearest']          \n",
            " 14             [-1, 4]  1         0  ultralytics.nn.modules.conv.Concat           [1]                           \n",
            " 15                  -1  1    148224  ultralytics.nn.modules.block.C2f             [384, 128, 1]                 \n",
            " 16                  -1  1    147712  ultralytics.nn.modules.conv.Conv             [128, 128, 3, 2]              \n",
            " 17            [-1, 12]  1         0  ultralytics.nn.modules.conv.Concat           [1]                           \n",
            " 18                  -1  1    493056  ultralytics.nn.modules.block.C2f             [384, 256, 1]                 \n",
            " 19                  -1  1    590336  ultralytics.nn.modules.conv.Conv             [256, 256, 3, 2]              \n",
            " 20             [-1, 9]  1         0  ultralytics.nn.modules.conv.Concat           [1]                           \n",
            " 21                  -1  1   1969152  ultralytics.nn.modules.block.C2f             [768, 512, 1]                 \n",
            " 22        [15, 18, 21]  1   2117209  ultralytics.nn.modules.head.Detect           [3, [128, 256, 512]]          \n",
            "Model summary: 225 layers, 11136761 parameters, 11136745 gradients\n",
            "\n",
            "Transferred 349/355 items from pretrained weights\n",
            "\u001b[34m\u001b[1mTensorBoard: \u001b[0mStart with 'tensorboard --logdir runs/detect/train3', view at http://localhost:6006/\n",
            "Freezing layer 'model.22.dfl.conv.weight'\n",
            "WARNING ⚠️ imgsz=[100] must be multiple of max stride 32, updating to [128]\n",
            "\u001b[34m\u001b[1mtrain: \u001b[0mScanning /content/drive/MyDrive/doors-1/train/labels... 6093 images, 0 backgrounds, 0 corrupt: 100% 6093/6093 [00:21<00:00, 289.49it/s]\n",
            "\u001b[34m\u001b[1mtrain: \u001b[0mNew cache created: /content/drive/MyDrive/doors-1/train/labels.cache\n",
            "\u001b[34m\u001b[1malbumentations: \u001b[0mBlur(p=0.01, blur_limit=(3, 7)), MedianBlur(p=0.01, blur_limit=(3, 7)), ToGray(p=0.01), CLAHE(p=0.01, clip_limit=(1, 4.0), tile_grid_size=(8, 8))\n",
            "\u001b[34m\u001b[1mval: \u001b[0mScanning /content/drive/MyDrive/doors-1/valid/labels... 579 images, 0 backgrounds, 0 corrupt: 100% 579/579 [00:02<00:00, 281.20it/s]\n",
            "\u001b[34m\u001b[1mval: \u001b[0mNew cache created: /content/drive/MyDrive/doors-1/valid/labels.cache\n",
            "Plotting labels to runs/detect/train3/labels.jpg... \n",
            "\u001b[34m\u001b[1moptimizer:\u001b[0m 'optimizer=auto' found, ignoring 'lr0=0.01' and 'momentum=0.937' and determining best 'optimizer', 'lr0' and 'momentum' automatically... \n",
            "\u001b[34m\u001b[1moptimizer:\u001b[0m AdamW(lr=0.001429, momentum=0.9) with parameter groups 57 weight(decay=0.0), 64 weight(decay=0.0005), 63 bias(decay=0.0)\n",
            "Image sizes 128 train, 128 val\n",
            "Using 0 dataloader workers\n",
            "Logging results to \u001b[1mruns/detect/train3\u001b[0m\n",
            "Starting training for 30 epochs...\n",
            "\n",
            "      Epoch    GPU_mem   box_loss   cls_loss   dfl_loss  Instances       Size\n",
            "       1/30         0G      1.112      1.852      1.247         34        128: 100% 381/381 [07:08<00:00,  1.12s/it]\n",
            "                 Class     Images  Instances      Box(P          R      mAP50  mAP50-95): 100% 19/19 [00:19<00:00,  1.04s/it]\n",
            "                   all        579        589      0.456      0.693      0.554      0.399\n",
            "\n",
            "      Epoch    GPU_mem   box_loss   cls_loss   dfl_loss  Instances       Size\n",
            "       2/30         0G     0.9887       1.41      1.163         27        128: 100% 381/381 [06:54<00:00,  1.09s/it]\n",
            "                 Class     Images  Instances      Box(P          R      mAP50  mAP50-95): 100% 19/19 [00:19<00:00,  1.04s/it]\n",
            "                   all        579        589      0.497      0.717      0.656      0.498\n",
            "\n",
            "      Epoch    GPU_mem   box_loss   cls_loss   dfl_loss  Instances       Size\n",
            "       3/30         0G     0.9724       1.35      1.152         32        128: 100% 381/381 [06:49<00:00,  1.08s/it]\n",
            "                 Class     Images  Instances      Box(P          R      mAP50  mAP50-95): 100% 19/19 [00:20<00:00,  1.07s/it]\n",
            "                   all        579        589      0.727      0.735      0.789      0.625\n",
            "\n",
            "      Epoch    GPU_mem   box_loss   cls_loss   dfl_loss  Instances       Size\n",
            "       4/30         0G     0.9201      1.269      1.132         30        128: 100% 381/381 [06:51<00:00,  1.08s/it]\n",
            "                 Class     Images  Instances      Box(P          R      mAP50  mAP50-95): 100% 19/19 [00:20<00:00,  1.08s/it]\n",
            "                   all        579        589      0.815      0.753      0.865      0.702\n",
            "\n",
            "      Epoch    GPU_mem   box_loss   cls_loss   dfl_loss  Instances       Size\n",
            "       5/30         0G     0.8845       1.18      1.106         29        128: 100% 381/381 [07:04<00:00,  1.11s/it]\n",
            "                 Class     Images  Instances      Box(P          R      mAP50  mAP50-95): 100% 19/19 [00:19<00:00,  1.02s/it]\n",
            "                   all        579        589      0.774      0.742      0.853      0.692\n",
            "\n",
            "      Epoch    GPU_mem   box_loss   cls_loss   dfl_loss  Instances       Size\n",
            "       6/30         0G     0.8427      1.117      1.085         29        128: 100% 381/381 [06:58<00:00,  1.10s/it]\n",
            "                 Class     Images  Instances      Box(P          R      mAP50  mAP50-95): 100% 19/19 [00:19<00:00,  1.04s/it]\n",
            "                   all        579        589      0.859      0.809      0.912      0.747\n",
            "\n",
            "      Epoch    GPU_mem   box_loss   cls_loss   dfl_loss  Instances       Size\n",
            "       7/30         0G     0.8233      1.068      1.077         33        128: 100% 381/381 [07:02<00:00,  1.11s/it]\n",
            "                 Class     Images  Instances      Box(P          R      mAP50  mAP50-95): 100% 19/19 [00:20<00:00,  1.06s/it]\n",
            "                   all        579        589       0.76      0.854      0.896      0.744\n",
            "\n",
            "      Epoch    GPU_mem   box_loss   cls_loss   dfl_loss  Instances       Size\n",
            "       8/30         0G     0.7933      1.019      1.063         27        128: 100% 381/381 [06:48<00:00,  1.07s/it]\n",
            "                 Class     Images  Instances      Box(P          R      mAP50  mAP50-95): 100% 19/19 [00:20<00:00,  1.10s/it]\n",
            "                   all        579        589      0.874      0.818       0.93      0.776\n",
            "\n",
            "      Epoch    GPU_mem   box_loss   cls_loss   dfl_loss  Instances       Size\n",
            "       9/30         0G     0.7744     0.9818      1.051         33        128: 100% 381/381 [06:51<00:00,  1.08s/it]\n",
            "                 Class     Images  Instances      Box(P          R      mAP50  mAP50-95): 100% 19/19 [00:20<00:00,  1.09s/it]\n",
            "                   all        579        589      0.899       0.86      0.942      0.791\n",
            "\n",
            "      Epoch    GPU_mem   box_loss   cls_loss   dfl_loss  Instances       Size\n",
            "      10/30         0G     0.7698     0.9626      1.046         39        128:  20% 75/381 [01:23<05:34,  1.09s/it]Premature end of JPEG file\n",
            "[ WARN:0@4062.758] global loadsave.cpp:248 findDecoder imread_('/content/drive/MyDrive/doors-1/train/images/Door0603_png.rf.99e71f641285763e8b3d1f2ef8c8abdd.jpg'): can't open/read file: check file path/integrity\n",
            "      10/30         0G     0.7698     0.9626      1.046         39        128:  20% 75/381 [01:23<05:42,  1.12s/it]\n",
            "Traceback (most recent call last):\n",
            "  File \"/usr/local/bin/yolo\", line 8, in <module>\n",
            "    sys.exit(entrypoint())\n",
            "  File \"/usr/local/lib/python3.10/dist-packages/ultralytics/cfg/__init__.py\", line 445, in entrypoint\n",
            "    getattr(model, mode)(**overrides)  # default args from model\n",
            "  File \"/usr/local/lib/python3.10/dist-packages/ultralytics/engine/model.py\", line 337, in train\n",
            "    self.trainer.train()\n",
            "  File \"/usr/local/lib/python3.10/dist-packages/ultralytics/engine/trainer.py\", line 195, in train\n",
            "    self._do_train(world_size)\n",
            "  File \"/usr/local/lib/python3.10/dist-packages/ultralytics/engine/trainer.py\", line 331, in _do_train\n",
            "    for i, batch in pbar:\n",
            "  File \"/usr/local/lib/python3.10/dist-packages/tqdm/std.py\", line 1182, in __iter__\n",
            "    for obj in iterable:\n",
            "  File \"/usr/local/lib/python3.10/dist-packages/ultralytics/data/build.py\", line 38, in __iter__\n",
            "    yield next(self.iterator)\n",
            "  File \"/usr/local/lib/python3.10/dist-packages/torch/utils/data/dataloader.py\", line 633, in __next__\n",
            "    data = self._next_data()\n",
            "  File \"/usr/local/lib/python3.10/dist-packages/torch/utils/data/dataloader.py\", line 677, in _next_data\n",
            "    data = self._dataset_fetcher.fetch(index)  # may raise StopIteration\n",
            "  File \"/usr/local/lib/python3.10/dist-packages/torch/utils/data/_utils/fetch.py\", line 51, in fetch\n",
            "    data = [self.dataset[idx] for idx in possibly_batched_index]\n",
            "  File \"/usr/local/lib/python3.10/dist-packages/torch/utils/data/_utils/fetch.py\", line 51, in <listcomp>\n",
            "    data = [self.dataset[idx] for idx in possibly_batched_index]\n",
            "  File \"/usr/local/lib/python3.10/dist-packages/ultralytics/data/base.py\", line 241, in __getitem__\n",
            "    return self.transforms(self.get_image_and_label(index))\n",
            "  File \"/usr/local/lib/python3.10/dist-packages/ultralytics/data/base.py\", line 247, in get_image_and_label\n",
            "    label['img'], label['ori_shape'], label['resized_shape'] = self.load_image(index)\n",
            "  File \"/usr/local/lib/python3.10/dist-packages/ultralytics/data/base.py\", line 152, in load_image\n",
            "    raise FileNotFoundError(f'Image Not Found {f}')\n",
            "FileNotFoundError: Image Not Found /content/drive/MyDrive/doors-1/train/images/Door0603_png.rf.99e71f641285763e8b3d1f2ef8c8abdd.jpg\n"
          ]
        }
      ],
      "source": [
        "!yolo task=detect mode=train model=yolov8s.pt data={dataset.location}/data.yaml epochs=30 imgsz=100 plots=True"
      ]
    },
    {
      "cell_type": "code",
      "execution_count": null,
      "metadata": {
        "colab": {
          "base_uri": "https://localhost:8080/"
        },
        "id": "BqLJrGX9XoDc",
        "outputId": "8307836f-f0af-4880-8b5b-d93f8bae578e"
      },
      "outputs": [
        {
          "name": "stdout",
          "output_type": "stream",
          "text": [
            "/content/runs/detect/train9/runs/detect/train\n"
          ]
        }
      ],
      "source": [
        "cd /content/runs/detect/train9/runs/detect/train"
      ]
    }
  ],
  "metadata": {
    "colab": {
      "provenance": []
    },
    "kernelspec": {
      "display_name": "Python 3",
      "name": "python3"
    },
    "language_info": {
      "name": "python"
    }
  },
  "nbformat": 4,
  "nbformat_minor": 0
}